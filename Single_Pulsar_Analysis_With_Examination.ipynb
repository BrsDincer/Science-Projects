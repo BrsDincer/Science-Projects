{
  "nbformat": 4,
  "nbformat_minor": 0,
  "metadata": {
    "colab": {
      "provenance": [],
      "toc_visible": true
    },
    "kernelspec": {
      "name": "python3",
      "display_name": "Python 3"
    },
    "language_info": {
      "name": "python"
    }
  },
  "cells": [
    {
      "cell_type": "markdown",
      "source": [
        "# Pulsar Analysis - Gravitational Wave Background Project"
      ],
      "metadata": {
        "id": "3N8i4fLUUgZs"
      }
    },
    {
      "cell_type": "markdown",
      "source": [
        "- Most of these applications rely on a single, simple technique, `pulsar timing`.This technique achieves its full power for recycled pulsars. Put simply, this consists of the study of the times of arrival (`TOAs`) of the pulses (normally determined by adding many individual pulses coherently in phase) at one or several telescopes, most often radio telescopes.\n",
        "- In order to correct for the movement of the radio telescope relative to the SSB (Solar system barycentre), we need to have an estimate of the position of the pulsar in the sky; i.e. the **_right ascension_** (α), **_declination_** (δ) and, for measurements spanning many years, the proper motion in these two coordinates (μα, μδ)."
      ],
      "metadata": {
        "id": "nOMVR-kIRq_5"
      }
    },
    {
      "cell_type": "markdown",
      "source": [
        "> Please check for documentation created by CERN: [Project Document](https://indico.cern.ch/event/783425/contributions/3359109/attachments/1816111/2968248/PINT__PyGamma19_.pdf)"
      ],
      "metadata": {
        "id": "gqnYT9I7YA_x"
      }
    },
    {
      "cell_type": "markdown",
      "source": [
        "> Please check for other documentation: [Documentation for PINT](https://scholarworks.utrgv.edu/cgi/viewcontent.cgi?article=1451&context=pa_fac)"
      ],
      "metadata": {
        "id": "DeJ_24x-abJ4"
      }
    },
    {
      "cell_type": "markdown",
      "source": [
        "> Please check for simple operations: [Simple Operations](https://pint.readthedocs.io/_/downloads/en/0.9/pdf/)"
      ],
      "metadata": {
        "id": "OdZuDP4MZsgS"
      }
    },
    {
      "cell_type": "markdown",
      "source": [
        "# Libraries"
      ],
      "metadata": {
        "id": "lKSRnPWzj1tQ"
      }
    },
    {
      "cell_type": "code",
      "source": [
        "%%capture\n",
        "!pip install pint-pulsar\n",
        "!pip install astropy"
      ],
      "metadata": {
        "id": "0tZsSGHI6Mkj"
      },
      "execution_count": 2,
      "outputs": []
    },
    {
      "cell_type": "markdown",
      "source": [
        "## Packages"
      ],
      "metadata": {
        "id": "sLsFxh2Zkwov"
      }
    },
    {
      "cell_type": "code",
      "source": [
        "import astropy\n",
        "import astropy.units as astunit\n",
        "import matplotlib\n",
        "import matplotlib.pyplot as plt\n",
        "import pint.logging\n",
        "import pint.fitter\n",
        "import pint.config\n",
        "from pint.models import get_model_and_toas,get_model\n",
        "from pint.residuals import Residuals\n",
        "from pint.toa import get_TOAs"
      ],
      "metadata": {
        "id": "cSSwP_wsoLLi"
      },
      "execution_count": 16,
      "outputs": []
    },
    {
      "cell_type": "markdown",
      "source": [
        "## Configurations"
      ],
      "metadata": {
        "id": "wWKtMqwD69Ys"
      }
    },
    {
      "cell_type": "code",
      "source": [
        "%matplotlib inline\n",
        "%config InlineBackend.figure_format = \"retina\"\n",
        "plt.style.use('dark_background')"
      ],
      "metadata": {
        "id": "rnRwg1ra64zY"
      },
      "execution_count": 60,
      "outputs": []
    },
    {
      "cell_type": "code",
      "source": [
        "matplotlib.rcParams[\"figure.figsize\"] = (10,8)\n",
        "matplotlib.rcParams[\"figure.labelsize\"] = \"medium\"\n",
        "matplotlib.rcParams[\"font.size\"] = 9.0\n",
        "matplotlib.rcParams[\"lines.linewidth\"] = 2"
      ],
      "metadata": {
        "id": "OhSAKdqS_7fY"
      },
      "execution_count": 77,
      "outputs": []
    },
    {
      "cell_type": "code",
      "source": [
        "%%capture\n",
        "pint.logging.setup(level=\"INFO\")"
      ],
      "metadata": {
        "id": "ouJibF8d_-df"
      },
      "execution_count": null,
      "outputs": []
    },
    {
      "cell_type": "markdown",
      "source": [
        "# Data"
      ],
      "metadata": {
        "id": "vkjcqaP7BTkt"
      }
    },
    {
      "cell_type": "markdown",
      "source": [
        "## Path"
      ],
      "metadata": {
        "id": "bq7zLMRWBy_r"
      }
    },
    {
      "cell_type": "markdown",
      "source": [
        "> Please check: [More Pulsar Data](https://github.com/nanograv/PINT/tree/master/src/pint/data/examples)"
      ],
      "metadata": {
        "id": "qX0dbg_YXxML"
      }
    },
    {
      "cell_type": "code",
      "source": [
        "par_ = pint.config.examplefile(\"NGC6440E.par\")\n",
        "tim_ = pint.config.examplefile(\"NGC6440E.tim\")"
      ],
      "metadata": {
        "id": "b4XJ2wZhBKrR"
      },
      "execution_count": 14,
      "outputs": []
    },
    {
      "cell_type": "markdown",
      "source": [
        "## Reading"
      ],
      "metadata": {
        "id": "i0IKkBupB0BG"
      }
    },
    {
      "cell_type": "markdown",
      "source": [
        "### Single - PAR File"
      ],
      "metadata": {
        "id": "xR9etQ5gB1TS"
      }
    },
    {
      "cell_type": "markdown",
      "source": [
        "- `Parameter` files are text files, consisting of a collection of lines whose order is irrelevant. Lines generally begin with an all-uppercase parameter name, then a space-separated list of values whose interpretation depends on the parameter."
      ],
      "metadata": {
        "id": "kTpLjY6aUEjz"
      }
    },
    {
      "cell_type": "code",
      "source": [
        "single_par = get_model(par_)"
      ],
      "metadata": {
        "id": "0tcScb_yBeP5"
      },
      "execution_count": 17,
      "outputs": []
    },
    {
      "cell_type": "code",
      "source": [
        "print(f\"PARAMETERS:\\n\\n{single_par.params}\")"
      ],
      "metadata": {
        "colab": {
          "base_uri": "https://localhost:8080/"
        },
        "id": "X6hr0E_jCUqB",
        "outputId": "a10bdab0-6e66-4200-dfb9-ff00d514d828"
      },
      "execution_count": 29,
      "outputs": [
        {
          "output_type": "stream",
          "name": "stdout",
          "text": [
            "PARAMETERS:\n",
            "\n",
            "['PSR', 'TRACK', 'EPHEM', 'CLOCK', 'UNITS', 'START', 'FINISH', 'RM', 'INFO', 'TIMEEPH', 'T2CMETHOD', 'BINARY', 'DILATEFREQ', 'DMDATA', 'NTOA', 'CHI2', 'POSEPOCH', 'PX', 'RAJ', 'DECJ', 'PMRA', 'PMDEC', 'CORRECT_TROPOSPHERE', 'PLANET_SHAPIRO', 'NE_SW', 'SWP', 'SWM', 'DM', 'DM1', 'DMEPOCH', 'TZRMJD', 'TZRSITE', 'TZRFRQ', 'F0', 'PEPOCH', 'F1']\n"
          ]
        }
      ]
    },
    {
      "cell_type": "markdown",
      "source": [
        "#### Parameters"
      ],
      "metadata": {
        "id": "eRYMJiD-Il0v"
      }
    },
    {
      "cell_type": "code",
      "source": [
        "def ReadParametersForPAR(par_reading):\n",
        "  par_params = par_reading.params\n",
        "  if len(par_params) > 0 and isinstance(par_params,list):\n",
        "    for prm_ in par_params:\n",
        "      att_ = getattr(single_par,prm_)\n",
        "      print(\"###\"*15)\n",
        "      print(f\"NAME:         {att_.name}\")\n",
        "      print(f\"TYPE:         {type(att_)}\")\n",
        "      print(f\"QUANTITY:     {att_.quantity},{type(att_.quantity)}\")\n",
        "      print(f\"VALUE:        {att_.value}\")\n",
        "      print(f\"UNIT:         {att_.units}\")\n",
        "      print(\"###\"*15)\n",
        "      print(f\"SUMMARY:      {att_}\\n\\n\")"
      ],
      "metadata": {
        "id": "BlKFEpyhDUiE"
      },
      "execution_count": 53,
      "outputs": []
    },
    {
      "cell_type": "code",
      "source": [
        "ReadParametersForPAR(par_reading=single_par)"
      ],
      "metadata": {
        "colab": {
          "base_uri": "https://localhost:8080/"
        },
        "id": "EY2EP6yeB_ch",
        "outputId": "4790c5f9-40e4-49ab-b639-828d38e12eb1"
      },
      "execution_count": 99,
      "outputs": [
        {
          "output_type": "stream",
          "name": "stdout",
          "text": [
            "#############################################\n",
            "NAME:         PSR\n",
            "TYPE:         <class 'pint.models.parameter.strParameter'>\n",
            "QUANTITY:     1748-2021E,<class 'str'>\n",
            "VALUE:        1748-2021E\n",
            "UNIT:         None\n",
            "#############################################\n",
            "SUMMARY:      strParameter(   PSR                 1748-2021E        frozen=True)\n",
            "\n",
            "\n",
            "#############################################\n",
            "NAME:         TRACK\n",
            "TYPE:         <class 'pint.models.parameter.strParameter'>\n",
            "QUANTITY:     None,<class 'NoneType'>\n",
            "VALUE:        None\n",
            "UNIT:         None\n",
            "#############################################\n",
            "SUMMARY:      strParameter(   TRACK               UNSET\n",
            "\n",
            "\n",
            "#############################################\n",
            "NAME:         EPHEM\n",
            "TYPE:         <class 'pint.models.parameter.strParameter'>\n",
            "QUANTITY:     DE421,<class 'str'>\n",
            "VALUE:        DE421\n",
            "UNIT:         None\n",
            "#############################################\n",
            "SUMMARY:      strParameter(   EPHEM               DE421             frozen=True)\n",
            "\n",
            "\n",
            "#############################################\n",
            "NAME:         CLOCK\n",
            "TYPE:         <class 'pint.models.parameter.strParameter'>\n",
            "QUANTITY:     TT(BIPM2019),<class 'str'>\n",
            "VALUE:        TT(BIPM2019)\n",
            "UNIT:         None\n",
            "#############################################\n",
            "SUMMARY:      strParameter(   CLOCK               TT(BIPM2019)      frozen=True)\n",
            "\n",
            "\n",
            "#############################################\n",
            "NAME:         UNITS\n",
            "TYPE:         <class 'pint.models.parameter.strParameter'>\n",
            "QUANTITY:     TDB,<class 'str'>\n",
            "VALUE:        TDB\n",
            "UNIT:         None\n",
            "#############################################\n",
            "SUMMARY:      strParameter(   UNITS               TDB               frozen=True)\n",
            "\n",
            "\n",
            "#############################################\n",
            "NAME:         START\n",
            "TYPE:         <class 'pint.models.parameter.MJDParameter'>\n",
            "QUANTITY:     None,<class 'NoneType'>\n",
            "VALUE:        None\n",
            "UNIT:         d\n",
            "#############################################\n",
            "SUMMARY:      MJDParameter(   START               UNSET\n",
            "\n",
            "\n",
            "#############################################\n",
            "NAME:         FINISH\n",
            "TYPE:         <class 'pint.models.parameter.MJDParameter'>\n",
            "QUANTITY:     None,<class 'NoneType'>\n",
            "VALUE:        None\n",
            "UNIT:         d\n",
            "#############################################\n",
            "SUMMARY:      MJDParameter(   FINISH              UNSET\n",
            "\n",
            "\n",
            "#############################################\n",
            "NAME:         RM\n",
            "TYPE:         <class 'pint.models.parameter.floatParameter'>\n",
            "QUANTITY:     None,<class 'NoneType'>\n",
            "VALUE:        None\n",
            "UNIT:         rad / m2\n",
            "#############################################\n",
            "SUMMARY:      floatParameter( RM                  UNSET\n",
            "\n",
            "\n",
            "#############################################\n",
            "NAME:         INFO\n",
            "TYPE:         <class 'pint.models.parameter.strParameter'>\n",
            "QUANTITY:     None,<class 'NoneType'>\n",
            "VALUE:        None\n",
            "UNIT:         None\n",
            "#############################################\n",
            "SUMMARY:      strParameter(   INFO                UNSET\n",
            "\n",
            "\n",
            "#############################################\n",
            "NAME:         TIMEEPH\n",
            "TYPE:         <class 'pint.models.parameter.strParameter'>\n",
            "QUANTITY:     FB90,<class 'str'>\n",
            "VALUE:        FB90\n",
            "UNIT:         None\n",
            "#############################################\n",
            "SUMMARY:      strParameter(   TIMEEPH             FB90              frozen=True)\n",
            "\n",
            "\n",
            "#############################################\n",
            "NAME:         T2CMETHOD\n",
            "TYPE:         <class 'pint.models.parameter.strParameter'>\n",
            "QUANTITY:     IAU2000B,<class 'str'>\n",
            "VALUE:        IAU2000B\n",
            "UNIT:         None\n",
            "#############################################\n",
            "SUMMARY:      strParameter(   T2CMETHOD           IAU2000B          frozen=True)\n",
            "\n",
            "\n",
            "#############################################\n",
            "NAME:         BINARY\n",
            "TYPE:         <class 'pint.models.parameter.strParameter'>\n",
            "QUANTITY:     None,<class 'NoneType'>\n",
            "VALUE:        None\n",
            "UNIT:         None\n",
            "#############################################\n",
            "SUMMARY:      strParameter(   BINARY              UNSET\n",
            "\n",
            "\n",
            "#############################################\n",
            "NAME:         DILATEFREQ\n",
            "TYPE:         <class 'pint.models.parameter.boolParameter'>\n",
            "QUANTITY:     False,<class 'bool'>\n",
            "VALUE:        False\n",
            "UNIT:         None\n",
            "#############################################\n",
            "SUMMARY:      boolParameter(  DILATEFREQ          N                 frozen=True)\n",
            "\n",
            "\n",
            "#############################################\n",
            "NAME:         DMDATA\n",
            "TYPE:         <class 'pint.models.parameter.boolParameter'>\n",
            "QUANTITY:     False,<class 'bool'>\n",
            "VALUE:        False\n",
            "UNIT:         None\n",
            "#############################################\n",
            "SUMMARY:      boolParameter(  DMDATA              N                 frozen=True)\n",
            "\n",
            "\n",
            "#############################################\n",
            "NAME:         NTOA\n",
            "TYPE:         <class 'pint.models.parameter.intParameter'>\n",
            "QUANTITY:     0,<class 'int'>\n",
            "VALUE:        0\n",
            "UNIT:         None\n",
            "#############################################\n",
            "SUMMARY:      intParameter(   NTOA                0                 frozen=True)\n",
            "\n",
            "\n",
            "#############################################\n",
            "NAME:         CHI2\n",
            "TYPE:         <class 'pint.models.parameter.floatParameter'>\n",
            "QUANTITY:     0.0,<class 'astropy.units.quantity.Quantity'>\n",
            "VALUE:        0.0\n",
            "UNIT:         \n",
            "#############################################\n",
            "SUMMARY:      floatParameter( CHI2                0.0               () frozen=True)\n",
            "\n",
            "\n",
            "#############################################\n",
            "NAME:         POSEPOCH\n",
            "TYPE:         <class 'pint.models.parameter.MJDParameter'>\n",
            "QUANTITY:     53750.0000000000000000,<class 'astropy.time.core.Time'>\n",
            "VALUE:        53750.0\n",
            "UNIT:         d\n",
            "#############################################\n",
            "SUMMARY:      MJDParameter(   POSEPOCH            53750.0000000000000000 (d) frozen=True)\n",
            "\n",
            "\n",
            "#############################################\n",
            "NAME:         PX\n",
            "TYPE:         <class 'pint.models.parameter.floatParameter'>\n",
            "QUANTITY:     0.0 mas,<class 'astropy.units.quantity.Quantity'>\n",
            "VALUE:        0.0\n",
            "UNIT:         mas\n",
            "#############################################\n",
            "SUMMARY:      floatParameter( PX                  0.0               (mas) frozen=True)\n",
            "\n",
            "\n",
            "#############################################\n",
            "NAME:         RAJ\n",
            "TYPE:         <class 'pint.models.parameter.AngleParameter'>\n",
            "QUANTITY:     17.814652777777777 hourangle,<class 'astropy.coordinates.angles.Angle'>\n",
            "VALUE:        17.814652777777777\n",
            "UNIT:         hourangle\n",
            "#############################################\n",
            "SUMMARY:      AngleParameter( RAJ                 17:48:52.75000000 (hourangle) +/- 0h00m00.05s frozen=False)\n",
            "\n",
            "\n",
            "#############################################\n",
            "NAME:         DECJ\n",
            "TYPE:         <class 'pint.models.parameter.AngleParameter'>\n",
            "QUANTITY:     -20.358055555555556 deg,<class 'astropy.coordinates.angles.Angle'>\n",
            "VALUE:        -20.358055555555556\n",
            "UNIT:         deg\n",
            "#############################################\n",
            "SUMMARY:      AngleParameter( DECJ                -20:21:29.00000000 (deg) +/- 0d00m00.4s frozen=False)\n",
            "\n",
            "\n",
            "#############################################\n",
            "NAME:         PMRA\n",
            "TYPE:         <class 'pint.models.parameter.floatParameter'>\n",
            "QUANTITY:     0.0 mas / yr,<class 'astropy.units.quantity.Quantity'>\n",
            "VALUE:        0.0\n",
            "UNIT:         mas / yr\n",
            "#############################################\n",
            "SUMMARY:      floatParameter( PMRA                0.0               (mas / yr) frozen=True)\n",
            "\n",
            "\n",
            "#############################################\n",
            "NAME:         PMDEC\n",
            "TYPE:         <class 'pint.models.parameter.floatParameter'>\n",
            "QUANTITY:     0.0 mas / yr,<class 'astropy.units.quantity.Quantity'>\n",
            "VALUE:        0.0\n",
            "UNIT:         mas / yr\n",
            "#############################################\n",
            "SUMMARY:      floatParameter( PMDEC               0.0               (mas / yr) frozen=True)\n",
            "\n",
            "\n",
            "#############################################\n",
            "NAME:         CORRECT_TROPOSPHERE\n",
            "TYPE:         <class 'pint.models.parameter.boolParameter'>\n",
            "QUANTITY:     False,<class 'bool'>\n",
            "VALUE:        False\n",
            "UNIT:         None\n",
            "#############################################\n",
            "SUMMARY:      boolParameter(  CORRECT_TROPOSPHERE N                 frozen=True)\n",
            "\n",
            "\n",
            "#############################################\n",
            "NAME:         PLANET_SHAPIRO\n",
            "TYPE:         <class 'pint.models.parameter.boolParameter'>\n",
            "QUANTITY:     False,<class 'bool'>\n",
            "VALUE:        False\n",
            "UNIT:         None\n",
            "#############################################\n",
            "SUMMARY:      boolParameter(  PLANET_SHAPIRO      N                 frozen=True)\n",
            "\n",
            "\n",
            "#############################################\n",
            "NAME:         NE_SW\n",
            "TYPE:         <class 'pint.models.parameter.floatParameter'>\n",
            "QUANTITY:     0.0 1 / cm3,<class 'astropy.units.quantity.Quantity'>\n",
            "VALUE:        0.0\n",
            "UNIT:         1 / cm3\n",
            "#############################################\n",
            "SUMMARY:      floatParameter( NE_SW               0.0               (1 / cm3) frozen=True)\n",
            "\n",
            "\n",
            "#############################################\n",
            "NAME:         SWP\n",
            "TYPE:         <class 'pint.models.parameter.floatParameter'>\n",
            "QUANTITY:     2.0,<class 'astropy.units.quantity.Quantity'>\n",
            "VALUE:        2.0\n",
            "UNIT:         \n",
            "#############################################\n",
            "SUMMARY:      floatParameter( SWP                 2.0               () frozen=True)\n",
            "\n",
            "\n",
            "#############################################\n",
            "NAME:         SWM\n",
            "TYPE:         <class 'pint.models.parameter.floatParameter'>\n",
            "QUANTITY:     0.0,<class 'astropy.units.quantity.Quantity'>\n",
            "VALUE:        0.0\n",
            "UNIT:         \n",
            "#############################################\n",
            "SUMMARY:      floatParameter( SWM                 0.0               () frozen=True)\n",
            "\n",
            "\n",
            "#############################################\n",
            "NAME:         DM\n",
            "TYPE:         <class 'pint.models.parameter.floatParameter'>\n",
            "QUANTITY:     223.9 pc / cm3,<class 'astropy.units.quantity.Quantity'>\n",
            "VALUE:        223.9\n",
            "UNIT:         pc / cm3\n",
            "#############################################\n",
            "SUMMARY:      floatParameter( DM                  223.9             (pc / cm3) +/- 0.3 pc / cm3 frozen=False)\n",
            "\n",
            "\n",
            "#############################################\n",
            "NAME:         DM1\n",
            "TYPE:         <class 'pint.models.parameter.prefixParameter'>\n",
            "QUANTITY:     None,<class 'NoneType'>\n",
            "VALUE:        None\n",
            "UNIT:         pc / (cm3 yr)\n",
            "#############################################\n",
            "SUMMARY:      floatParameter( DM1                 UNSET\n",
            "\n",
            "\n",
            "#############################################\n",
            "NAME:         DMEPOCH\n",
            "TYPE:         <class 'pint.models.parameter.MJDParameter'>\n",
            "QUANTITY:     None,<class 'NoneType'>\n",
            "VALUE:        None\n",
            "UNIT:         d\n",
            "#############################################\n",
            "SUMMARY:      MJDParameter(   DMEPOCH             UNSET\n",
            "\n",
            "\n",
            "#############################################\n",
            "NAME:         TZRMJD\n",
            "TYPE:         <class 'pint.models.parameter.MJDParameter'>\n",
            "QUANTITY:     53801.3860512007484954,<class 'astropy.time.core.Time'>\n",
            "VALUE:        53801.386051200745\n",
            "UNIT:         d\n",
            "#############################################\n",
            "SUMMARY:      MJDParameter(   TZRMJD              53801.3860512007484954 (d) frozen=True)\n",
            "\n",
            "\n",
            "#############################################\n",
            "NAME:         TZRSITE\n",
            "TYPE:         <class 'pint.models.parameter.strParameter'>\n",
            "QUANTITY:     1,<class 'str'>\n",
            "VALUE:        1\n",
            "UNIT:         None\n",
            "#############################################\n",
            "SUMMARY:      strParameter(   TZRSITE             1                 frozen=True)\n",
            "\n",
            "\n",
            "#############################################\n",
            "NAME:         TZRFRQ\n",
            "TYPE:         <class 'pint.models.parameter.floatParameter'>\n",
            "QUANTITY:     1949.609 MHz,<class 'astropy.units.quantity.Quantity'>\n",
            "VALUE:        1949.609\n",
            "UNIT:         MHz\n",
            "#############################################\n",
            "SUMMARY:      floatParameter( TZRFRQ              1949.609          (MHz) frozen=True)\n",
            "\n",
            "\n",
            "#############################################\n",
            "NAME:         F0\n",
            "TYPE:         <class 'pint.models.parameter.prefixParameter'>\n",
            "QUANTITY:     61.485476554 Hz,<class 'astropy.units.quantity.Quantity'>\n",
            "VALUE:        61.485476554\n",
            "UNIT:         Hz\n",
            "#############################################\n",
            "SUMMARY:      floatParameter( F0                  61.485476554      (Hz) +/- 5e-10 Hz frozen=False)\n",
            "\n",
            "\n",
            "#############################################\n",
            "NAME:         PEPOCH\n",
            "TYPE:         <class 'pint.models.parameter.MJDParameter'>\n",
            "QUANTITY:     53750.0000000000000000,<class 'astropy.time.core.Time'>\n",
            "VALUE:        53750.0\n",
            "UNIT:         d\n",
            "#############################################\n",
            "SUMMARY:      MJDParameter(   PEPOCH              53750.0000000000000000 (d) frozen=True)\n",
            "\n",
            "\n",
            "#############################################\n",
            "NAME:         F1\n",
            "TYPE:         <class 'pint.models.parameter.prefixParameter'>\n",
            "QUANTITY:     -1.181e-15 Hz / s,<class 'astropy.units.quantity.Quantity'>\n",
            "VALUE:        -1.181e-15\n",
            "UNIT:         Hz / s\n",
            "#############################################\n",
            "SUMMARY:      floatParameter( F1                  -1.181e-15        (Hz / s) +/- 1e-18 Hz / s frozen=False)\n",
            "\n",
            "\n"
          ]
        }
      ]
    },
    {
      "cell_type": "markdown",
      "source": [
        "### Single - TIM File / Times of Arrival (TOAs)"
      ],
      "metadata": {
        "id": "6QUTur-GFMJn"
      }
    },
    {
      "cell_type": "markdown",
      "source": [
        "-  These are collections of lines, but in some cases they can contain structure in the form of blocks that are meant to be omitted from reading or have their `time` adjusted."
      ],
      "metadata": {
        "id": "G8wjMgw9UMnF"
      }
    },
    {
      "cell_type": "markdown",
      "source": [
        "#### Configurations"
      ],
      "metadata": {
        "id": "fIDjlM0iIorT"
      }
    },
    {
      "cell_type": "code",
      "source": [
        "single_tim = get_TOAs(tim_)"
      ],
      "metadata": {
        "colab": {
          "base_uri": "https://localhost:8080/"
        },
        "id": "Yp9OJNdHCAVp",
        "outputId": "a8fcc18a-8128-48df-8a5f-c6b64990228d"
      },
      "execution_count": 43,
      "outputs": [
        {
          "output_type": "stream",
          "name": "stderr",
          "text": [
            "\u001b[1mINFO    \u001b[0m (pint.observatory              ): \u001b[1mApplying GPS to UTC clock correction (~few nanoseconds)\u001b[0m\n",
            "\u001b[1mINFO    \u001b[0m (pint.observatory              ): \u001b[1mLoading global GPS clock file\u001b[0m\n",
            "\u001b[1mINFO    \u001b[0m (pint.observatory.global_clock_corrections): \u001b[1mFile index.txt to be downloaded due to download policy if_expired: https://raw.githubusercontent.com/ipta/pulsar-clock-corrections/main/index.txt\u001b[0m\n",
            "\u001b[1mINFO    \u001b[0m (pint.observatory.global_clock_corrections): \u001b[1mFile T2runtime/clock/gps2utc.clk to be downloaded due to download policy if_missing: https://raw.githubusercontent.com/ipta/pulsar-clock-corrections/main/T2runtime/clock/gps2utc.clk\u001b[0m\n",
            "\u001b[1mINFO    \u001b[0m (pint.observatory              ): \u001b[1mUsing global clock file for gps2utc.clk with bogus_last_correction=False\u001b[0m\n",
            "\u001b[1mINFO    \u001b[0m (pint.observatory              ): \u001b[1mApplying TT(TAI) to TT(BIPM2021) clock correction (~27 us)\u001b[0m\n",
            "\u001b[1mINFO    \u001b[0m (pint.observatory              ): \u001b[1mLoading BIPM clock version bipm2021\u001b[0m\n",
            "\u001b[1mINFO    \u001b[0m (pint.observatory.global_clock_corrections): \u001b[1mFile T2runtime/clock/tai2tt_bipm2021.clk to be downloaded due to download policy if_missing: https://raw.githubusercontent.com/ipta/pulsar-clock-corrections/main/T2runtime/clock/tai2tt_bipm2021.clk\u001b[0m\n",
            "\u001b[1mINFO    \u001b[0m (pint.observatory              ): \u001b[1mUsing global clock file for tai2tt_bipm2021.clk with bogus_last_correction=False\u001b[0m\n",
            "\u001b[1mINFO    \u001b[0m (pint.observatory.global_clock_corrections): \u001b[1mFile tempo/clock/time_gbt.dat to be downloaded due to download policy if_missing: https://raw.githubusercontent.com/ipta/pulsar-clock-corrections/main/tempo/clock/time_gbt.dat\u001b[0m\n",
            "\u001b[1mINFO    \u001b[0m (pint.observatory              ): \u001b[1mUsing global clock file for time_gbt.dat with bogus_last_correction=False\u001b[0m\n",
            "\u001b[1mINFO    \u001b[0m (pint.observatory.topo_obs     ): \u001b[1mApplying observatory clock corrections for observatory='gbt'.\u001b[0m\n",
            "\u001b[33m\u001b[1mWARNING \u001b[0m (pint.toa                      ): \u001b[33m\u001b[1mNo ephemeris provided to TOAs object or compute_TDBs. Using DE421\u001b[0m\n",
            "\u001b[1mINFO    \u001b[0m (pint.solar_system_ephemerides ): \u001b[1mSet solar system ephemeris to de421 from download\u001b[0m\n"
          ]
        }
      ]
    },
    {
      "cell_type": "code",
      "source": [
        "print(single_tim)"
      ],
      "metadata": {
        "colab": {
          "base_uri": "https://localhost:8080/"
        },
        "id": "WqJkzZ82FvQu",
        "outputId": "4aa37a9c-7452-4cb5-eee6-e6c0b584507c"
      },
      "execution_count": 46,
      "outputs": [
        {
          "output_type": "stream",
          "name": "stdout",
          "text": [
            "62 TOAs starting at MJD 53478.28587141954\n"
          ]
        }
      ]
    },
    {
      "cell_type": "code",
      "source": [
        "single_tim_model = get_TOAs(tim_,model=single_par)"
      ],
      "metadata": {
        "colab": {
          "base_uri": "https://localhost:8080/"
        },
        "id": "kJZkzbOiFim-",
        "outputId": "0a4737e4-4b68-45dd-ed5c-58ca57384472"
      },
      "execution_count": 44,
      "outputs": [
        {
          "output_type": "stream",
          "name": "stderr",
          "text": [
            "\u001b[1mINFO    \u001b[0m (pint.observatory              ): \u001b[1mApplying TT(TAI) to TT(BIPM2019) clock correction (~27 us)\u001b[0m\n",
            "\u001b[1mINFO    \u001b[0m (pint.observatory              ): \u001b[1mLoading BIPM clock version bipm2019\u001b[0m\n",
            "\u001b[1mINFO    \u001b[0m (pint.observatory.global_clock_corrections): \u001b[1mFile T2runtime/clock/tai2tt_bipm2019.clk to be downloaded due to download policy if_missing: https://raw.githubusercontent.com/ipta/pulsar-clock-corrections/main/T2runtime/clock/tai2tt_bipm2019.clk\u001b[0m\n",
            "\u001b[1mINFO    \u001b[0m (pint.observatory              ): \u001b[1mUsing global clock file for tai2tt_bipm2019.clk with bogus_last_correction=False\u001b[0m\n"
          ]
        }
      ]
    },
    {
      "cell_type": "code",
      "source": [
        "print(single_tim_model)"
      ],
      "metadata": {
        "colab": {
          "base_uri": "https://localhost:8080/"
        },
        "id": "vRPxnsjqFyQI",
        "outputId": "4a095d07-8b65-42b2-d4f6-4877e745ba69"
      },
      "execution_count": 47,
      "outputs": [
        {
          "output_type": "stream",
          "name": "stdout",
          "text": [
            "62 TOAs starting at MJD 53478.28587141954\n"
          ]
        }
      ]
    },
    {
      "cell_type": "markdown",
      "source": [
        "#### General Informations"
      ],
      "metadata": {
        "id": "QIFJNPeLIrX1"
      }
    },
    {
      "cell_type": "code",
      "source": [
        "print(f\"TABLE:\\n\\n{single_tim.table}\")"
      ],
      "metadata": {
        "colab": {
          "base_uri": "https://localhost:8080/"
        },
        "id": "dhbDwn9xIEyK",
        "outputId": "3a4bac2a-0062-4a5a-e009-8a0ba3fffc3c"
      },
      "execution_count": 63,
      "outputs": [
        {
          "output_type": "stream",
          "name": "stdout",
          "text": [
            "TABLE:\n",
            "\n",
            "index        mjd        ...                obs_sun_pos                \n",
            "                        ...                     km                    \n",
            "----- ----------------- ... ------------------------------------------\n",
            "    0 53478.28587141954 ...   132300219.00570384 .. 28301415.359200373\n",
            "    1 53483.27670518884 ...    125950526.54720826 .. 32709720.94995422\n",
            "    2 53489.46838978825 ...   116811489.08005221 .. 37847344.145764045\n",
            "    3 53679.87564592083 ...  -107617035.22785984 .. -40589908.43799996\n",
            "    4 53679.87564536537 ...  -107617036.21815397 .. -40589908.02744384\n",
            "    5  53679.8756449276 ...  -107617036.99860592 .. -40589907.70388409\n",
            "    6 53679.87564457819 ... -107617037.62154312 .. -40589907.445626795\n",
            "    7 53679.87564513386 ...  -107617036.63088569 .. -40589907.85633354\n",
            "    8 53681.70075099914 ...  -104248039.63195954 .. -41917934.22431617\n",
            "    9 53681.95454490266 ...  -103778953.69813989 .. -42099238.00618052\n",
            "  ...               ... ...                                        ...\n",
            "   52 54187.33158349338 ...     148137668.80068263 .. 7406553.86137678\n",
            "   53 54187.58732417023 ...      148057390.624038 .. 7667155.828443215\n",
            "   54 54099.70978574142 ...   22419253.281310633 .. -57831702.95571323\n",
            "   55 54099.70978542604 ...   22419252.476043273 .. -57831703.00623521\n",
            "   56 54099.70978514842 ...    22419251.76717777 .. -57831703.05070901\n",
            "   57 54099.70978490359 ...   22419251.14204362 .. -57831703.089929536\n",
            "   58  54099.7097846853 ...    22419250.58466372 .. -57831703.12489923\n",
            "   59 54099.70978449185 ...      22419250.090728 .. -57831703.15588845\n",
            "   60 54099.70978431551 ...     22419249.64046944 .. -57831703.1841374\n",
            "   61 54099.70978415968 ...   22419249.242564064 .. -57831703.20910175\n",
            "Length = 62 rows\n"
          ]
        }
      ]
    },
    {
      "cell_type": "code",
      "source": [
        "print(f\"COLUMN NAMES:\\n\\n{single_tim.table.colnames}\")"
      ],
      "metadata": {
        "colab": {
          "base_uri": "https://localhost:8080/"
        },
        "id": "K8f-5lmJINu9",
        "outputId": "b10abe94-8288-49a8-a73a-4d45f691efca"
      },
      "execution_count": 64,
      "outputs": [
        {
          "output_type": "stream",
          "name": "stdout",
          "text": [
            "COLUMN NAMES:\n",
            "\n",
            "['index', 'mjd', 'mjd_float', 'error', 'freq', 'obs', 'flags', 'delta_pulse_number', 'tdb', 'tdbld', 'ssb_obs_pos', 'ssb_obs_vel', 'obs_sun_pos']\n"
          ]
        }
      ]
    },
    {
      "cell_type": "markdown",
      "source": [
        "#### Parameters"
      ],
      "metadata": {
        "id": "w4d-8PYzIuXI"
      }
    },
    {
      "cell_type": "code",
      "source": [
        "#units of days - Julian date\n",
        "print(f\"MJDS:\\n\\n{single_tim_model.get_mjds()}\")"
      ],
      "metadata": {
        "colab": {
          "base_uri": "https://localhost:8080/"
        },
        "id": "LXtd05bcIZFh",
        "outputId": "e749461a-72fa-498d-b13f-32df64c7ee13"
      },
      "execution_count": 66,
      "outputs": [
        {
          "output_type": "stream",
          "name": "stdout",
          "text": [
            "MJDS:\n",
            "\n",
            "[53478.28587142 53483.27670519 53489.46838979 53679.87564592\n",
            " 53679.87564537 53679.87564493 53679.87564458 53679.87564513\n",
            " 53681.700751   53681.9545449  53683.73678777 53685.73745904\n",
            " 53687.68639838 53687.95032739 53690.8505221  53695.69557327\n",
            " 53695.85890789 53700.71983242 53700.86649642 53709.63751695\n",
            " 53709.80961233 53740.56747467 53740.77459869 53801.3860512\n",
            " 53801.59143301 53833.2978103  53833.50245772 53843.33207938\n",
            " 53865.18476778 53865.37595138 53895.11283426 53895.3234694\n",
            " 53920.05274172 53920.23971474 53954.97216082 53955.17456176\n",
            " 53980.90304181 53981.11981343 54010.82143311 54011.03176787\n",
            " 54050.70474316 54050.94624708 54093.65660523 54095.65330737\n",
            " 54098.6648706  54099.70978479 54148.68651943 54150.42513338\n",
            " 54151.52682219 54152.71744732 54153.54858413 54160.52286339\n",
            " 54187.33158349 54187.58732417 54099.70978574 54099.70978543\n",
            " 54099.70978515 54099.7097849  54099.70978469 54099.70978449\n",
            " 54099.70978432 54099.70978416] d\n"
          ]
        }
      ]
    },
    {
      "cell_type": "code",
      "source": [
        "print(f\"PULSE NUMBER:\\n\\n{single_tim_model['delta_pulse_number']}\")"
      ],
      "metadata": {
        "colab": {
          "base_uri": "https://localhost:8080/"
        },
        "id": "f9bHYFK8V-yP",
        "outputId": "1de6f447-798f-4a77-f87d-77cc13a7f51b"
      },
      "execution_count": 101,
      "outputs": [
        {
          "output_type": "stream",
          "name": "stdout",
          "text": [
            "PULSE NUMBER:\n",
            "\n",
            "delta_pulse_number\n",
            "------------------\n",
            "               0.0\n",
            "               0.0\n",
            "               0.0\n",
            "               0.0\n",
            "               0.0\n",
            "               0.0\n",
            "               0.0\n",
            "               0.0\n",
            "               0.0\n",
            "               0.0\n",
            "               ...\n",
            "               0.0\n",
            "               0.0\n",
            "               0.0\n",
            "               0.0\n",
            "               0.0\n",
            "               0.0\n",
            "               0.0\n",
            "               0.0\n",
            "               0.0\n",
            "               0.0\n",
            "               0.0\n",
            "Length = 62 rows\n"
          ]
        }
      ]
    },
    {
      "cell_type": "code",
      "source": [
        "print(f\"FREQUENCY:\\n\\n{single_tim_model['freq']}\")"
      ],
      "metadata": {
        "colab": {
          "base_uri": "https://localhost:8080/"
        },
        "id": "DDP8m_0uVziS",
        "outputId": "2b349be6-988e-46a2-d50a-d6b963df6a31"
      },
      "execution_count": 100,
      "outputs": [
        {
          "output_type": "stream",
          "name": "stdout",
          "text": [
            "FREQUENCY:\n",
            "\n",
            "  freq  \n",
            "  MHz   \n",
            "--------\n",
            "1949.609\n",
            "1949.609\n",
            "1949.609\n",
            "1724.609\n",
            "1874.609\n",
            "2024.609\n",
            "2174.609\n",
            "1949.609\n",
            "1949.609\n",
            "1949.609\n",
            "     ...\n",
            "1949.609\n",
            "1949.609\n",
            "1687.109\n",
            "1762.109\n",
            "1837.109\n",
            "1912.109\n",
            "1987.109\n",
            "2062.109\n",
            "2137.109\n",
            "2212.109\n",
            "Length = 62 rows\n"
          ]
        }
      ]
    },
    {
      "cell_type": "code",
      "source": [
        "print(f\"SUN POSITION:\\n\\n{single_tim_model['obs_sun_pos']}\")"
      ],
      "metadata": {
        "colab": {
          "base_uri": "https://localhost:8080/"
        },
        "id": "w4A7VyJpHvWN",
        "outputId": "48d9a546-8f11-4764-b57b-7def0fb77776"
      },
      "execution_count": 69,
      "outputs": [
        {
          "output_type": "stream",
          "name": "stdout",
          "text": [
            "SUN POSITION:\n",
            "\n",
            "               obs_sun_pos                \n",
            "                    km                    \n",
            "------------------------------------------\n",
            "  132300219.00570384 .. 28301415.359200373\n",
            "   125950526.54720826 .. 32709720.94995422\n",
            "  116811489.08005221 .. 37847344.145764045\n",
            " -107617035.22785984 .. -40589908.43799996\n",
            " -107617036.21815397 .. -40589908.02744384\n",
            " -107617036.99860592 .. -40589907.70388409\n",
            "-107617037.62154312 .. -40589907.445626795\n",
            " -107617036.63088569 .. -40589907.85633354\n",
            " -104248039.63195954 .. -41917934.22431617\n",
            " -103778953.69813989 .. -42099238.00618052\n",
            "                                       ...\n",
            "    148137668.80068263 .. 7406553.86137678\n",
            "     148057390.624038 .. 7667155.828443215\n",
            "  22419253.281310633 .. -57831702.95571323\n",
            "  22419252.476043273 .. -57831703.00623521\n",
            "   22419251.76717777 .. -57831703.05070901\n",
            "  22419251.14204362 .. -57831703.089929536\n",
            "   22419250.58466372 .. -57831703.12489923\n",
            "     22419250.090728 .. -57831703.15588845\n",
            "    22419249.64046944 .. -57831703.1841374\n",
            "  22419249.242564064 .. -57831703.20910175\n",
            "Length = 62 rows\n"
          ]
        }
      ]
    },
    {
      "cell_type": "code",
      "source": [
        "print(f\"SUMMARY:\\n\\n{single_tim_model.get_summary()}\")"
      ],
      "metadata": {
        "colab": {
          "base_uri": "https://localhost:8080/"
        },
        "id": "dHzNeqykGMGY",
        "outputId": "7ea65c49-7d34-403d-b4d0-32d55edb113b"
      },
      "execution_count": 50,
      "outputs": [
        {
          "output_type": "stream",
          "name": "stdout",
          "text": [
            "SUMMARY:\n",
            "\n",
            "Number of TOAs:  62\n",
            "Number of commands:  0\n",
            "Number of observatories: 1 ['gbt']\n",
            "MJD span:  53478.286 to 54187.587\n",
            "Date span: 2005-04-18 06:51:39.290648106 to 2007-03-28 14:05:44.808308037\n",
            "gbt TOAs (62):\n",
            "  Min freq:      1549.609 MHz\n",
            "  Max freq:      2212.109 MHz\n",
            "  Min error:     13.2 us\n",
            "  Max error:     118 us\n",
            "  Median error:  22.1 us\n",
            "\n"
          ]
        }
      ]
    },
    {
      "cell_type": "markdown",
      "source": [
        "### Single - Both"
      ],
      "metadata": {
        "id": "iMy9HyWEFegC"
      }
    },
    {
      "cell_type": "markdown",
      "source": [
        "#### Configuration"
      ],
      "metadata": {
        "id": "22RcfMs1JcHt"
      }
    },
    {
      "cell_type": "code",
      "source": [
        "pfile_,tf_ = get_model_and_toas(par_,tim_)"
      ],
      "metadata": {
        "id": "UyQisBuHFbJX"
      },
      "execution_count": 57,
      "outputs": []
    },
    {
      "cell_type": "code",
      "source": [
        "ReadParametersForPAR(par_reading=pfile_)"
      ],
      "metadata": {
        "colab": {
          "base_uri": "https://localhost:8080/"
        },
        "id": "CMHPpIR4Ggad",
        "outputId": "3f93eea2-6626-4813-b87d-f47a51e7b0a0"
      },
      "execution_count": 102,
      "outputs": [
        {
          "output_type": "stream",
          "name": "stdout",
          "text": [
            "#############################################\n",
            "NAME:         PSR\n",
            "TYPE:         <class 'pint.models.parameter.strParameter'>\n",
            "QUANTITY:     1748-2021E,<class 'str'>\n",
            "VALUE:        1748-2021E\n",
            "UNIT:         None\n",
            "#############################################\n",
            "SUMMARY:      strParameter(   PSR                 1748-2021E        frozen=True)\n",
            "\n",
            "\n",
            "#############################################\n",
            "NAME:         TRACK\n",
            "TYPE:         <class 'pint.models.parameter.strParameter'>\n",
            "QUANTITY:     None,<class 'NoneType'>\n",
            "VALUE:        None\n",
            "UNIT:         None\n",
            "#############################################\n",
            "SUMMARY:      strParameter(   TRACK               UNSET\n",
            "\n",
            "\n",
            "#############################################\n",
            "NAME:         EPHEM\n",
            "TYPE:         <class 'pint.models.parameter.strParameter'>\n",
            "QUANTITY:     DE421,<class 'str'>\n",
            "VALUE:        DE421\n",
            "UNIT:         None\n",
            "#############################################\n",
            "SUMMARY:      strParameter(   EPHEM               DE421             frozen=True)\n",
            "\n",
            "\n",
            "#############################################\n",
            "NAME:         CLOCK\n",
            "TYPE:         <class 'pint.models.parameter.strParameter'>\n",
            "QUANTITY:     TT(BIPM2019),<class 'str'>\n",
            "VALUE:        TT(BIPM2019)\n",
            "UNIT:         None\n",
            "#############################################\n",
            "SUMMARY:      strParameter(   CLOCK               TT(BIPM2019)      frozen=True)\n",
            "\n",
            "\n",
            "#############################################\n",
            "NAME:         UNITS\n",
            "TYPE:         <class 'pint.models.parameter.strParameter'>\n",
            "QUANTITY:     TDB,<class 'str'>\n",
            "VALUE:        TDB\n",
            "UNIT:         None\n",
            "#############################################\n",
            "SUMMARY:      strParameter(   UNITS               TDB               frozen=True)\n",
            "\n",
            "\n",
            "#############################################\n",
            "NAME:         START\n",
            "TYPE:         <class 'pint.models.parameter.MJDParameter'>\n",
            "QUANTITY:     None,<class 'NoneType'>\n",
            "VALUE:        None\n",
            "UNIT:         d\n",
            "#############################################\n",
            "SUMMARY:      MJDParameter(   START               UNSET\n",
            "\n",
            "\n",
            "#############################################\n",
            "NAME:         FINISH\n",
            "TYPE:         <class 'pint.models.parameter.MJDParameter'>\n",
            "QUANTITY:     None,<class 'NoneType'>\n",
            "VALUE:        None\n",
            "UNIT:         d\n",
            "#############################################\n",
            "SUMMARY:      MJDParameter(   FINISH              UNSET\n",
            "\n",
            "\n",
            "#############################################\n",
            "NAME:         RM\n",
            "TYPE:         <class 'pint.models.parameter.floatParameter'>\n",
            "QUANTITY:     None,<class 'NoneType'>\n",
            "VALUE:        None\n",
            "UNIT:         rad / m2\n",
            "#############################################\n",
            "SUMMARY:      floatParameter( RM                  UNSET\n",
            "\n",
            "\n",
            "#############################################\n",
            "NAME:         INFO\n",
            "TYPE:         <class 'pint.models.parameter.strParameter'>\n",
            "QUANTITY:     None,<class 'NoneType'>\n",
            "VALUE:        None\n",
            "UNIT:         None\n",
            "#############################################\n",
            "SUMMARY:      strParameter(   INFO                UNSET\n",
            "\n",
            "\n",
            "#############################################\n",
            "NAME:         TIMEEPH\n",
            "TYPE:         <class 'pint.models.parameter.strParameter'>\n",
            "QUANTITY:     FB90,<class 'str'>\n",
            "VALUE:        FB90\n",
            "UNIT:         None\n",
            "#############################################\n",
            "SUMMARY:      strParameter(   TIMEEPH             FB90              frozen=True)\n",
            "\n",
            "\n",
            "#############################################\n",
            "NAME:         T2CMETHOD\n",
            "TYPE:         <class 'pint.models.parameter.strParameter'>\n",
            "QUANTITY:     IAU2000B,<class 'str'>\n",
            "VALUE:        IAU2000B\n",
            "UNIT:         None\n",
            "#############################################\n",
            "SUMMARY:      strParameter(   T2CMETHOD           IAU2000B          frozen=True)\n",
            "\n",
            "\n",
            "#############################################\n",
            "NAME:         BINARY\n",
            "TYPE:         <class 'pint.models.parameter.strParameter'>\n",
            "QUANTITY:     None,<class 'NoneType'>\n",
            "VALUE:        None\n",
            "UNIT:         None\n",
            "#############################################\n",
            "SUMMARY:      strParameter(   BINARY              UNSET\n",
            "\n",
            "\n",
            "#############################################\n",
            "NAME:         DILATEFREQ\n",
            "TYPE:         <class 'pint.models.parameter.boolParameter'>\n",
            "QUANTITY:     False,<class 'bool'>\n",
            "VALUE:        False\n",
            "UNIT:         None\n",
            "#############################################\n",
            "SUMMARY:      boolParameter(  DILATEFREQ          N                 frozen=True)\n",
            "\n",
            "\n",
            "#############################################\n",
            "NAME:         DMDATA\n",
            "TYPE:         <class 'pint.models.parameter.boolParameter'>\n",
            "QUANTITY:     False,<class 'bool'>\n",
            "VALUE:        False\n",
            "UNIT:         None\n",
            "#############################################\n",
            "SUMMARY:      boolParameter(  DMDATA              N                 frozen=True)\n",
            "\n",
            "\n",
            "#############################################\n",
            "NAME:         NTOA\n",
            "TYPE:         <class 'pint.models.parameter.intParameter'>\n",
            "QUANTITY:     0,<class 'int'>\n",
            "VALUE:        0\n",
            "UNIT:         None\n",
            "#############################################\n",
            "SUMMARY:      intParameter(   NTOA                0                 frozen=True)\n",
            "\n",
            "\n",
            "#############################################\n",
            "NAME:         CHI2\n",
            "TYPE:         <class 'pint.models.parameter.floatParameter'>\n",
            "QUANTITY:     0.0,<class 'astropy.units.quantity.Quantity'>\n",
            "VALUE:        0.0\n",
            "UNIT:         \n",
            "#############################################\n",
            "SUMMARY:      floatParameter( CHI2                0.0               () frozen=True)\n",
            "\n",
            "\n",
            "#############################################\n",
            "NAME:         POSEPOCH\n",
            "TYPE:         <class 'pint.models.parameter.MJDParameter'>\n",
            "QUANTITY:     53750.0000000000000000,<class 'astropy.time.core.Time'>\n",
            "VALUE:        53750.0\n",
            "UNIT:         d\n",
            "#############################################\n",
            "SUMMARY:      MJDParameter(   POSEPOCH            53750.0000000000000000 (d) frozen=True)\n",
            "\n",
            "\n",
            "#############################################\n",
            "NAME:         PX\n",
            "TYPE:         <class 'pint.models.parameter.floatParameter'>\n",
            "QUANTITY:     0.0 mas,<class 'astropy.units.quantity.Quantity'>\n",
            "VALUE:        0.0\n",
            "UNIT:         mas\n",
            "#############################################\n",
            "SUMMARY:      floatParameter( PX                  0.0               (mas) frozen=True)\n",
            "\n",
            "\n",
            "#############################################\n",
            "NAME:         RAJ\n",
            "TYPE:         <class 'pint.models.parameter.AngleParameter'>\n",
            "QUANTITY:     17.814652777777777 hourangle,<class 'astropy.coordinates.angles.Angle'>\n",
            "VALUE:        17.814652777777777\n",
            "UNIT:         hourangle\n",
            "#############################################\n",
            "SUMMARY:      AngleParameter( RAJ                 17:48:52.75000000 (hourangle) +/- 0h00m00.05s frozen=False)\n",
            "\n",
            "\n",
            "#############################################\n",
            "NAME:         DECJ\n",
            "TYPE:         <class 'pint.models.parameter.AngleParameter'>\n",
            "QUANTITY:     -20.358055555555556 deg,<class 'astropy.coordinates.angles.Angle'>\n",
            "VALUE:        -20.358055555555556\n",
            "UNIT:         deg\n",
            "#############################################\n",
            "SUMMARY:      AngleParameter( DECJ                -20:21:29.00000000 (deg) +/- 0d00m00.4s frozen=False)\n",
            "\n",
            "\n",
            "#############################################\n",
            "NAME:         PMRA\n",
            "TYPE:         <class 'pint.models.parameter.floatParameter'>\n",
            "QUANTITY:     0.0 mas / yr,<class 'astropy.units.quantity.Quantity'>\n",
            "VALUE:        0.0\n",
            "UNIT:         mas / yr\n",
            "#############################################\n",
            "SUMMARY:      floatParameter( PMRA                0.0               (mas / yr) frozen=True)\n",
            "\n",
            "\n",
            "#############################################\n",
            "NAME:         PMDEC\n",
            "TYPE:         <class 'pint.models.parameter.floatParameter'>\n",
            "QUANTITY:     0.0 mas / yr,<class 'astropy.units.quantity.Quantity'>\n",
            "VALUE:        0.0\n",
            "UNIT:         mas / yr\n",
            "#############################################\n",
            "SUMMARY:      floatParameter( PMDEC               0.0               (mas / yr) frozen=True)\n",
            "\n",
            "\n",
            "#############################################\n",
            "NAME:         CORRECT_TROPOSPHERE\n",
            "TYPE:         <class 'pint.models.parameter.boolParameter'>\n",
            "QUANTITY:     False,<class 'bool'>\n",
            "VALUE:        False\n",
            "UNIT:         None\n",
            "#############################################\n",
            "SUMMARY:      boolParameter(  CORRECT_TROPOSPHERE N                 frozen=True)\n",
            "\n",
            "\n",
            "#############################################\n",
            "NAME:         PLANET_SHAPIRO\n",
            "TYPE:         <class 'pint.models.parameter.boolParameter'>\n",
            "QUANTITY:     False,<class 'bool'>\n",
            "VALUE:        False\n",
            "UNIT:         None\n",
            "#############################################\n",
            "SUMMARY:      boolParameter(  PLANET_SHAPIRO      N                 frozen=True)\n",
            "\n",
            "\n",
            "#############################################\n",
            "NAME:         NE_SW\n",
            "TYPE:         <class 'pint.models.parameter.floatParameter'>\n",
            "QUANTITY:     0.0 1 / cm3,<class 'astropy.units.quantity.Quantity'>\n",
            "VALUE:        0.0\n",
            "UNIT:         1 / cm3\n",
            "#############################################\n",
            "SUMMARY:      floatParameter( NE_SW               0.0               (1 / cm3) frozen=True)\n",
            "\n",
            "\n",
            "#############################################\n",
            "NAME:         SWP\n",
            "TYPE:         <class 'pint.models.parameter.floatParameter'>\n",
            "QUANTITY:     2.0,<class 'astropy.units.quantity.Quantity'>\n",
            "VALUE:        2.0\n",
            "UNIT:         \n",
            "#############################################\n",
            "SUMMARY:      floatParameter( SWP                 2.0               () frozen=True)\n",
            "\n",
            "\n",
            "#############################################\n",
            "NAME:         SWM\n",
            "TYPE:         <class 'pint.models.parameter.floatParameter'>\n",
            "QUANTITY:     0.0,<class 'astropy.units.quantity.Quantity'>\n",
            "VALUE:        0.0\n",
            "UNIT:         \n",
            "#############################################\n",
            "SUMMARY:      floatParameter( SWM                 0.0               () frozen=True)\n",
            "\n",
            "\n",
            "#############################################\n",
            "NAME:         DM\n",
            "TYPE:         <class 'pint.models.parameter.floatParameter'>\n",
            "QUANTITY:     223.9 pc / cm3,<class 'astropy.units.quantity.Quantity'>\n",
            "VALUE:        223.9\n",
            "UNIT:         pc / cm3\n",
            "#############################################\n",
            "SUMMARY:      floatParameter( DM                  223.9             (pc / cm3) +/- 0.3 pc / cm3 frozen=False)\n",
            "\n",
            "\n",
            "#############################################\n",
            "NAME:         DM1\n",
            "TYPE:         <class 'pint.models.parameter.prefixParameter'>\n",
            "QUANTITY:     None,<class 'NoneType'>\n",
            "VALUE:        None\n",
            "UNIT:         pc / (cm3 yr)\n",
            "#############################################\n",
            "SUMMARY:      floatParameter( DM1                 UNSET\n",
            "\n",
            "\n",
            "#############################################\n",
            "NAME:         DMEPOCH\n",
            "TYPE:         <class 'pint.models.parameter.MJDParameter'>\n",
            "QUANTITY:     None,<class 'NoneType'>\n",
            "VALUE:        None\n",
            "UNIT:         d\n",
            "#############################################\n",
            "SUMMARY:      MJDParameter(   DMEPOCH             UNSET\n",
            "\n",
            "\n",
            "#############################################\n",
            "NAME:         TZRMJD\n",
            "TYPE:         <class 'pint.models.parameter.MJDParameter'>\n",
            "QUANTITY:     53801.3860512007484954,<class 'astropy.time.core.Time'>\n",
            "VALUE:        53801.386051200745\n",
            "UNIT:         d\n",
            "#############################################\n",
            "SUMMARY:      MJDParameter(   TZRMJD              53801.3860512007484954 (d) frozen=True)\n",
            "\n",
            "\n",
            "#############################################\n",
            "NAME:         TZRSITE\n",
            "TYPE:         <class 'pint.models.parameter.strParameter'>\n",
            "QUANTITY:     1,<class 'str'>\n",
            "VALUE:        1\n",
            "UNIT:         None\n",
            "#############################################\n",
            "SUMMARY:      strParameter(   TZRSITE             1                 frozen=True)\n",
            "\n",
            "\n",
            "#############################################\n",
            "NAME:         TZRFRQ\n",
            "TYPE:         <class 'pint.models.parameter.floatParameter'>\n",
            "QUANTITY:     1949.609 MHz,<class 'astropy.units.quantity.Quantity'>\n",
            "VALUE:        1949.609\n",
            "UNIT:         MHz\n",
            "#############################################\n",
            "SUMMARY:      floatParameter( TZRFRQ              1949.609          (MHz) frozen=True)\n",
            "\n",
            "\n",
            "#############################################\n",
            "NAME:         F0\n",
            "TYPE:         <class 'pint.models.parameter.prefixParameter'>\n",
            "QUANTITY:     61.485476554 Hz,<class 'astropy.units.quantity.Quantity'>\n",
            "VALUE:        61.485476554\n",
            "UNIT:         Hz\n",
            "#############################################\n",
            "SUMMARY:      floatParameter( F0                  61.485476554      (Hz) +/- 5e-10 Hz frozen=False)\n",
            "\n",
            "\n",
            "#############################################\n",
            "NAME:         PEPOCH\n",
            "TYPE:         <class 'pint.models.parameter.MJDParameter'>\n",
            "QUANTITY:     53750.0000000000000000,<class 'astropy.time.core.Time'>\n",
            "VALUE:        53750.0\n",
            "UNIT:         d\n",
            "#############################################\n",
            "SUMMARY:      MJDParameter(   PEPOCH              53750.0000000000000000 (d) frozen=True)\n",
            "\n",
            "\n",
            "#############################################\n",
            "NAME:         F1\n",
            "TYPE:         <class 'pint.models.parameter.prefixParameter'>\n",
            "QUANTITY:     -1.181e-15 Hz / s,<class 'astropy.units.quantity.Quantity'>\n",
            "VALUE:        -1.181e-15\n",
            "UNIT:         Hz / s\n",
            "#############################################\n",
            "SUMMARY:      floatParameter( F1                  -1.181e-15        (Hz / s) +/- 1e-18 Hz / s frozen=False)\n",
            "\n",
            "\n"
          ]
        }
      ]
    },
    {
      "cell_type": "markdown",
      "source": [
        "#### Summary"
      ],
      "metadata": {
        "id": "PBgxWQEgJd5u"
      }
    },
    {
      "cell_type": "code",
      "source": [
        "print(f\"SUMMARY:\\n\\n{tf_.print_summary()}\")"
      ],
      "metadata": {
        "colab": {
          "base_uri": "https://localhost:8080/"
        },
        "id": "u0mfQvEAGhhH",
        "outputId": "a34864c9-3948-4aae-c3c6-cea06c5f60e7"
      },
      "execution_count": 59,
      "outputs": [
        {
          "output_type": "stream",
          "name": "stdout",
          "text": [
            "Number of TOAs:  62\n",
            "Number of commands:  0\n",
            "Number of observatories: 1 ['gbt']\n",
            "MJD span:  53478.286 to 54187.587\n",
            "Date span: 2005-04-18 06:51:39.290648106 to 2007-03-28 14:05:44.808308037\n",
            "gbt TOAs (62):\n",
            "  Min freq:      1549.609 MHz\n",
            "  Max freq:      2212.109 MHz\n",
            "  Min error:     13.2 us\n",
            "  Max error:     118 us\n",
            "  Median error:  22.1 us\n",
            "\n",
            "SUMMARY:\n",
            "\n",
            "None\n"
          ]
        }
      ]
    },
    {
      "cell_type": "markdown",
      "source": [
        "# Plotting - Residuals"
      ],
      "metadata": {
        "id": "8spqERR1HVav"
      }
    },
    {
      "cell_type": "markdown",
      "source": [
        "## Informations"
      ],
      "metadata": {
        "id": "A7j58J5IKBxs"
      }
    },
    {
      "cell_type": "code",
      "source": [
        "rs_ = Residuals(tf_,pfile_).phase_resids #turns\n",
        "sc_ = Residuals(tf_,pfile_).time_resids #second\n",
        "xt_ = tf_.get_mjds()"
      ],
      "metadata": {
        "id": "zJ_wD5kcGywu"
      },
      "execution_count": 73,
      "outputs": []
    },
    {
      "cell_type": "code",
      "source": [
        "print(f\"RESIDS:\\n\\n{rs_}\") #Residuals in phase units"
      ],
      "metadata": {
        "colab": {
          "base_uri": "https://localhost:8080/"
        },
        "id": "vHtvwP9WJhqz",
        "outputId": "5cf8ba9a-1027-404d-c3f6-3047c355a11a"
      },
      "execution_count": 72,
      "outputs": [
        {
          "output_type": "stream",
          "name": "stdout",
          "text": [
            "RESIDS:\n",
            "\n",
            "[ 0.09808071  0.09316281  0.08403002 -0.06750549 -0.06797528 -0.07429986\n",
            " -0.07443214 -0.07131785 -0.06825554 -0.06508237 -0.06555115 -0.06306055\n",
            " -0.05999685 -0.05895801 -0.05366616 -0.04584715 -0.04569341 -0.03597094\n",
            " -0.03793269 -0.02479816 -0.02204758  0.03451573  0.03364936  0.10046244\n",
            "  0.10264347  0.09609952  0.09181971  0.08504262  0.05829965  0.0603302\n",
            "  0.00815942  0.00656392 -0.03770268 -0.03686243 -0.0886213  -0.08991913\n",
            " -0.11070943 -0.11184475 -0.11469835 -0.11148552 -0.07302035 -0.07544215\n",
            "  0.0013155   0.00406183  0.00896924  0.01020915  0.07936608  0.0814908\n",
            "  0.08876675  0.10145994  0.08557693  0.08440833  0.08702677  0.08896505\n",
            "  0.0169523   0.01361027  0.01026235  0.01139018  0.00888725  0.0144351\n",
            "  0.00399735  0.0098685 ]\n"
          ]
        }
      ]
    },
    {
      "cell_type": "code",
      "source": [
        "print(f\"SECONDS:\\n\\n{sc_}\") #Residuals in time units"
      ],
      "metadata": {
        "colab": {
          "base_uri": "https://localhost:8080/"
        },
        "id": "OQuED3dPJzZq",
        "outputId": "64fe0c5d-0426-4ffd-de00-e617b8717055"
      },
      "execution_count": 74,
      "outputs": [
        {
          "output_type": "stream",
          "name": "stdout",
          "text": [
            "SECONDS:\n",
            "\n",
            "[ 1.59518501e-03  1.51520029e-03  1.36666461e-03 -1.09790951e-03\n",
            " -1.10555017e-03 -1.20841317e-03 -1.21056451e-03 -1.15991376e-03\n",
            " -1.11010838e-03 -1.05849996e-03 -1.06612405e-03 -1.02561705e-03\n",
            " -9.75788958e-04 -9.58893306e-04 -8.72826639e-04 -7.45658155e-04\n",
            " -7.43157705e-04 -5.85031476e-04 -6.16937382e-04 -4.03317421e-04\n",
            " -3.58581901e-04  5.61363901e-04  5.47273271e-04  1.63392147e-03\n",
            "  1.66939372e-03  1.56296291e-03  1.49335605e-03  1.38313343e-03\n",
            "  9.48185691e-04  9.81210559e-04  1.32704788e-04  1.06755651e-04\n",
            " -6.13196472e-04 -5.99530690e-04 -1.44133716e-03 -1.46244506e-03\n",
            " -1.80057859e-03 -1.81904339e-03 -1.86545443e-03 -1.81320083e-03\n",
            " -1.18760326e-03 -1.22699136e-03  2.13953553e-05  6.60615981e-05\n",
            "  1.45875799e-04  1.66041691e-04  1.29081019e-03  1.32536667e-03\n",
            "  1.44370275e-03  1.65014473e-03  1.39182352e-03  1.37281739e-03\n",
            "  1.41540374e-03  1.44692784e-03  2.75712193e-04  2.21357521e-04\n",
            "  1.66906956e-04  1.85249930e-04  1.44542270e-04  2.34772548e-04\n",
            "  6.50129273e-05  1.60501396e-04] s\n"
          ]
        }
      ]
    },
    {
      "cell_type": "markdown",
      "source": [
        "## Plot"
      ],
      "metadata": {
        "id": "u-2NaIFSKROl"
      }
    },
    {
      "cell_type": "markdown",
      "source": [
        "### General"
      ],
      "metadata": {
        "id": "u6jXTnAgLY3E"
      }
    },
    {
      "cell_type": "code",
      "source": [
        "plt.figure()\n",
        "plt.title(f\"{pfile_.PSR.value} PRE-FITTING TIMING RESIDUALS\")\n",
        "plt.xlabel(\"MJD\")\n",
        "plt.ylabel(\"PHASE (RESIDUALS)\")\n",
        "plt.plot(xt_,rs_,\"x\")\n",
        "plt.tight_layout()\n",
        "plt.grid()\n",
        "plt.show()"
      ],
      "metadata": {
        "colab": {
          "base_uri": "https://localhost:8080/",
          "height": 807
        },
        "id": "zpA07OrwJif-",
        "outputId": "58dc3fd8-ab4f-4b61-ce76-5c5ddb80a84e"
      },
      "execution_count": 78,
      "outputs": [
        {
          "output_type": "display_data",
          "data": {
            "text/plain": [
              "<Figure size 1000x800 with 1 Axes>"
            ],
            "image/png": "[encoded data removed]"
          },
          "metadata": {
            "image/png": {
              "width": 991,
              "height": 790
            }
          }
        }
      ]
    },
    {
      "cell_type": "code",
      "source": [
        "plt.figure()\n",
        "plt.title(f\"{pfile_.PSR.value} PRE-FITTING TIMING RESIDUALS\")\n",
        "plt.xlabel(\"MJD\")\n",
        "plt.ylabel(\"PHASE (SECONDS)\")\n",
        "plt.plot(xt_,sc_,\"x\")\n",
        "plt.tight_layout()\n",
        "plt.grid()\n",
        "plt.show()"
      ],
      "metadata": {
        "colab": {
          "base_uri": "https://localhost:8080/",
          "height": 807
        },
        "id": "GkjNRfb3Kte8",
        "outputId": "c737123e-8ff2-4f20-ac68-f04bace9ac77"
      },
      "execution_count": 79,
      "outputs": [
        {
          "output_type": "display_data",
          "data": {
            "text/plain": [
              "<Figure size 1000x800 with 1 Axes>"
            ],
            "image/png": "[encoded data removed]"
          },
          "metadata": {
            "image/png": {
              "width": 991,
              "height": 790
            }
          }
        }
      ]
    },
    {
      "cell_type": "markdown",
      "source": [
        "### Fitting - Errors"
      ],
      "metadata": {
        "id": "pnyTB-n4LamE"
      }
    },
    {
      "cell_type": "markdown",
      "source": [
        "#### Configuration"
      ],
      "metadata": {
        "id": "OrqKRYFIL4Os"
      }
    },
    {
      "cell_type": "code",
      "source": [
        "error_correct = tf_.table[\"error\"] <= 30 * astunit.us"
      ],
      "metadata": {
        "id": "XQ49dDnYLQNT"
      },
      "execution_count": 80,
      "outputs": []
    },
    {
      "cell_type": "code",
      "source": [
        "tf_error_correct = tf_[error_correct]"
      ],
      "metadata": {
        "id": "_mJNVkeLLtpG"
      },
      "execution_count": 81,
      "outputs": []
    },
    {
      "cell_type": "code",
      "source": [
        "tf_error_correct.print_summary()"
      ],
      "metadata": {
        "colab": {
          "base_uri": "https://localhost:8080/"
        },
        "id": "vr6qkMlcLyjh",
        "outputId": "98be2539-8a9f-4216-8967-079a734c732b"
      },
      "execution_count": 82,
      "outputs": [
        {
          "output_type": "stream",
          "name": "stdout",
          "text": [
            "Number of TOAs:  44\n",
            "Number of commands:  0\n",
            "Number of observatories: 1 ['gbt']\n",
            "MJD span:  53478.286 to 54187.587\n",
            "Date span: 2005-04-18 06:51:39.290648106 to 2007-03-28 14:05:44.808308037\n",
            "gbt TOAs (44):\n",
            "  Min freq:      1724.609 MHz\n",
            "  Max freq:      1949.609 MHz\n",
            "  Min error:     13.2 us\n",
            "  Max error:     29.9 us\n",
            "  Median error:  21.5 us\n",
            "\n"
          ]
        }
      ]
    },
    {
      "cell_type": "markdown",
      "source": [
        "#### Display"
      ],
      "metadata": {
        "id": "kc5tBQh2L60c"
      }
    },
    {
      "cell_type": "code",
      "source": [
        "rs_error_correct = Residuals(tf_error_correct,pfile_).phase_resids #turns\n",
        "xt_error_correct = tf_error_correct.get_mjds()"
      ],
      "metadata": {
        "id": "bZYByQb1MAvZ"
      },
      "execution_count": 85,
      "outputs": []
    },
    {
      "cell_type": "code",
      "source": [
        "plt.figure()\n",
        "plt.title(f\"{pfile_.PSR.value} PRE-FITTING TIMING RESIDUALS\")\n",
        "plt.xlabel(\"MJD - Error Correct\")\n",
        "plt.ylabel(\"PHASE (RESIDUALS) - Error Correct\")\n",
        "plt.plot(xt_error_correct,rs_error_correct,\"x\")\n",
        "plt.tight_layout()\n",
        "plt.grid()\n",
        "plt.show()"
      ],
      "metadata": {
        "colab": {
          "base_uri": "https://localhost:8080/",
          "height": 807
        },
        "id": "96TQT2bCL1ZX",
        "outputId": "2ccdc9a9-93cf-4ce8-b7ad-29904fcc02ec"
      },
      "execution_count": 86,
      "outputs": [
        {
          "output_type": "display_data",
          "data": {
            "text/plain": [
              "<Figure size 1000x800 with 1 Axes>"
            ],
            "image/png": "[encoded data removed]"
          },
          "metadata": {
            "image/png": {
              "width": 991,
              "height": 790
            }
          }
        }
      ]
    },
    {
      "cell_type": "markdown",
      "source": [
        "### Frequency"
      ],
      "metadata": {
        "id": "-8kHyeYgau7H"
      }
    },
    {
      "cell_type": "code",
      "source": [
        "mjds_ = single_tim_model.get_mjds() #units of days - Julian date\n",
        "freq_ = single_tim_model[\"freq\"] #Hz\n",
        "assert len(mjds_) == len(freq_)"
      ],
      "metadata": {
        "id": "yo8XvD4yaxhf"
      },
      "execution_count": 103,
      "outputs": []
    },
    {
      "cell_type": "code",
      "source": [
        "plt.figure()\n",
        "plt.title(f\"{pfile_.PSR.value} PRE-FITTING TIMING RESIDUALS\")\n",
        "plt.xlabel(\"Julian - Days\")\n",
        "plt.ylabel(\"Frequency\")\n",
        "plt.plot(mjds_,freq_,\"x\")\n",
        "plt.tight_layout()\n",
        "plt.grid()\n",
        "plt.show()"
      ],
      "metadata": {
        "colab": {
          "base_uri": "https://localhost:8080/",
          "height": 807
        },
        "id": "dnkCIbESbCEe",
        "outputId": "a91078c0-0318-4520-e028-4ef36300131a"
      },
      "execution_count": 106,
      "outputs": [
        {
          "output_type": "display_data",
          "data": {
            "text/plain": [
              "<Figure size 1000x800 with 1 Axes>"
            ],
            "image/png": "[encoded data removed]"
          },
          "metadata": {
            "image/png": {
              "width": 992,
              "height": 790
            }
          }
        }
      ]
    },
    {
      "cell_type": "markdown",
      "source": [
        "# Getting Some Parameters"
      ],
      "metadata": {
        "id": "Y3RamCu0MoLK"
      }
    },
    {
      "cell_type": "markdown",
      "source": [
        "## Fittint - Auto"
      ],
      "metadata": {
        "id": "OfrGBXtYM5Xn"
      }
    },
    {
      "cell_type": "markdown",
      "source": [
        "- A very common operation with PINT is fitting a timing model to timing data. Fundamentally this operation tries to adjust the model parameters to minimize the residuals produced when the model is applied to a set of `TOAs`."
      ],
      "metadata": {
        "id": "gHVXPFhjUYKD"
      }
    },
    {
      "cell_type": "code",
      "source": [
        "fitting_ = pint.fitter.Fitter.auto(tf_error_correct,pfile_)\n",
        "fitting_.fit_toas()"
      ],
      "metadata": {
        "colab": {
          "base_uri": "https://localhost:8080/"
        },
        "id": "VMoRZDjNMRvH",
        "outputId": "635973db-b3ee-492a-c19d-72ab013a5a01"
      },
      "execution_count": 87,
      "outputs": [
        {
          "output_type": "stream",
          "name": "stderr",
          "text": [
            "\u001b[1mINFO    \u001b[0m (pint.fitter                   ): \u001b[1mFor narrowband TOAs without correlated errors and downhill fitter, returning 'DownhillWLSFitter'\u001b[0m\n"
          ]
        }
      ]
    },
    {
      "cell_type": "code",
      "source": [
        "print(f\"Standard Deviation - RMS in PHASE is:\\n{fitting_.resids.phase_resids.std()}\")"
      ],
      "metadata": {
        "colab": {
          "base_uri": "https://localhost:8080/"
        },
        "id": "t7HhDM1fM3b2",
        "outputId": "f97ec5ca-311c-4ce8-b5e9-bc37740f56a8"
      },
      "execution_count": 89,
      "outputs": [
        {
          "output_type": "stream",
          "name": "stdout",
          "text": [
            "Standard Deviation - RMS in PHASE is:\n",
            "0.0011179200258477613\n"
          ]
        }
      ]
    },
    {
      "cell_type": "code",
      "source": [
        "print(f\"Standard Deviation - RMS in TIME is:\\n{fitting_.resids.time_resids.std().to(astunit.us)}\")"
      ],
      "metadata": {
        "colab": {
          "base_uri": "https://localhost:8080/"
        },
        "id": "YRfnMewtNFt0",
        "outputId": "160e9e5f-a9cd-45c3-d719-25a968fcb6b6"
      },
      "execution_count": 91,
      "outputs": [
        {
          "output_type": "stream",
          "name": "stdout",
          "text": [
            "Standard Deviation - RMS in TIME is:\n",
            "18.181855110332737 us\n"
          ]
        }
      ]
    },
    {
      "cell_type": "markdown",
      "source": [
        "## Correlation Matrix - Display"
      ],
      "metadata": {
        "id": "urxcgrPyNYjr"
      }
    },
    {
      "cell_type": "code",
      "source": [
        "correlation_ = fitting_.get_parameter_correlation_matrix(pretty_print=True)"
      ],
      "metadata": {
        "colab": {
          "base_uri": "https://localhost:8080/"
        },
        "id": "byPeaytYNQOP",
        "outputId": "9e45c1b5-2670-486e-91eb-49a0554a357b"
      },
      "execution_count": 92,
      "outputs": [
        {
          "output_type": "stream",
          "name": "stdout",
          "text": [
            "\n",
            "Parameter correlation matrix:\n",
            "         RAJ   DECJ    DM     F0     F1   \n",
            "  RAJ    1.000\n",
            " DECJ   -0.047  1.000\n",
            "  DM     0.139  0.054  1.000\n",
            "  F0    -0.105  0.250 -0.099  1.000\n",
            "  F1     0.277 -0.323  0.030\u001b[0m\u001b[49;32m -0.773\u001b[0m  1.000\n",
            "\n",
            "\n"
          ]
        }
      ]
    },
    {
      "cell_type": "markdown",
      "source": [
        "## Summary"
      ],
      "metadata": {
        "id": "KjbKnxB_NkGO"
      }
    },
    {
      "cell_type": "markdown",
      "source": [
        "- `F0`: Spin frequency\n",
        "- `F1`: Time derivative of spin frequency\n",
        "- `F2`: Second order spin frequency derivative"
      ],
      "metadata": {
        "id": "5hGQuj14YnCj"
      }
    },
    {
      "cell_type": "markdown",
      "source": [
        "> Please check for other attributes: [Data Attributes](https://nanograv-pint.readthedocs.io/en/latest/timingmodels.html)"
      ],
      "metadata": {
        "id": "7iO294nOY6s1"
      }
    },
    {
      "cell_type": "code",
      "source": [
        "fitting_.print_summary()"
      ],
      "metadata": {
        "colab": {
          "base_uri": "https://localhost:8080/"
        },
        "id": "qZQHViyGNiG7",
        "outputId": "b490c5d4-7c2c-4109-d1b9-381a9a7fdb9c"
      },
      "execution_count": 93,
      "outputs": [
        {
          "output_type": "stream",
          "name": "stdout",
          "text": [
            "Fitted model using downhill_wls method with 5 free parameters to 44 TOAs\n",
            "Prefit residuals Wrms = 1113.6432901099379 us, Postfit residuals Wrms = 18.175665163117117 us\n",
            "Chisq = 39.396 for 38 d.o.f. for reduced Chisq of 1.037\n",
            "\n",
            "PAR                        Prefit                  Postfit            Units\n",
            "=================== ==================== ============================ =====\n",
            "PSR                           1748-2021E 1748-2021E                   None\n",
            "EPHEM                              DE421 DE421                        None\n",
            "CLOCK                       TT(BIPM2019) TT(BIPM2019)                 None\n",
            "UNITS                                TDB TDB                          None\n",
            "START                                                         53478.3 d \n",
            "FINISH                                                        54187.6 d \n",
            "TIMEEPH                             FB90 FB90                         None\n",
            "T2CMETHOD                       IAU2000B IAU2000B                     None\n",
            "DILATEFREQ                             N                              None\n",
            "DMDATA                                 N                              None\n",
            "NTOA                                   0                              None \n",
            "CHI2                                   0                               \n",
            "POSEPOCH                           53750                              d \n",
            "PX                                     0                              mas \n",
            "RAJ                         17h48m52.75s  17h48m52.80032123s +/- 0.00014 hourangle_second \n",
            "DECJ                          -20d21m29s  -20d21m29.39582206s +/- 0.034 arcsec \n",
            "PMRA                                   0                              mas / yr \n",
            "PMDEC                                  0                              mas / yr \n",
            "F0                               61.4855          61.485476554374(18) Hz \n",
            "PEPOCH                             53750                              d \n",
            "F1                            -1.181e-15            -1.1817(15)×10⁻¹⁵ Hz / s \n",
            "CORRECT_TROPOSPHERE                    N                              None\n",
            "PLANET_SHAPIRO                         N                              None\n",
            "NE_SW                                  0                              1 / cm3 \n",
            "SWP                                    2                               \n",
            "SWM                                    0                               \n",
            "DM                                 223.9                    224.07(8) pc / cm3 \n",
            "TZRMJD                           53801.4                              d \n",
            "TZRSITE                                1 1                            None\n",
            "TZRFRQ                           1949.61                              MHz \n",
            "\n",
            "Derived Parameters:\n",
            "Period = 0.016264003404375785 s +/- 4.870715505992e-15 s\n",
            "Pdot = 3.1257338123580927e-19 +/- 3.856295433667339e-22\n",
            "Characteristic age = 8.244e+08 yr (braking index = 3)\n",
            "Surface magnetic field = 2.28e+09 G\n",
            "Magnetic field at light cylinder = 4806 G\n",
            "Spindown Edot = 2.868e+33 erg / s (I=1e+45 cm2 g)\n",
            "\n"
          ]
        }
      ]
    },
    {
      "cell_type": "markdown",
      "source": [
        "# Save File"
      ],
      "metadata": {
        "id": "njpEp2BwNun7"
      }
    },
    {
      "cell_type": "code",
      "source": [
        "fitting_.model.write_parfile(\"/content/new_test_outputpar.par\",\"wt\")"
      ],
      "metadata": {
        "id": "PAn2nmkTNm7L"
      },
      "execution_count": 94,
      "outputs": []
    },
    {
      "cell_type": "code",
      "source": [
        "print(f\"AS PAR FILE:\\n\\n{fitting_.model.as_parfile()}\")"
      ],
      "metadata": {
        "colab": {
          "base_uri": "https://localhost:8080/"
        },
        "id": "AM1tkQL9N2p-",
        "outputId": "935200ef-bf37-4cac-8b61-dc258112f7e1"
      },
      "execution_count": 98,
      "outputs": [
        {
          "output_type": "stream",
          "name": "stdout",
          "text": [
            "AS PAR FILE:\n",
            "\n",
            "# Created: 2023-07-21T11:31:27.364481\n",
            "# PINT_version: 0.9.6\n",
            "# User: root\n",
            "# Host: 02df8e8e2250\n",
            "# OS: Linux-5.15.109+-x86_64-with-glibc2.35\n",
            "# Format: pint\n",
            "PSR                            1748-2021E\n",
            "EPHEM                               DE421\n",
            "CLK                          TT(BIPM2019)\n",
            "UNITS                                 TDB\n",
            "START              53478.2858714195382639\n",
            "FINISH             54187.5873241702319097\n",
            "TIMEEPH                              FB90\n",
            "T2CMETHOD                        IAU2000B\n",
            "DILATEFREQ                              N\n",
            "DMDATA                                  N\n",
            "NTOA                                   44\n",
            "CHI2                                  0.0\n",
            "RAJ                     17:48:52.80032123 1 0.00013868970124516537\n",
            "DECJ                   -20:21:29.39582206 1 0.03403292479977475249\n",
            "PMRA                                  0.0\n",
            "PMDEC                                 0.0\n",
            "PX                                    0.0\n",
            "POSEPOCH           53750.0000000000000000\n",
            "F0                  61.485476554373615327 1 1.84135637825875863e-11\n",
            "F1              -1.1816723610820747167e-15 1 1.4578585393661344035e-18\n",
            "PEPOCH             53750.0000000000000000\n",
            "CORRECT_TROPOSPHERE                         N\n",
            "PLANET_SHAPIRO                          N\n",
            "SOLARN0                               0.0\n",
            "SWM                                   0.0\n",
            "DM                   224.0664996062385513 1 0.082722266447864387096\n",
            "TZRMJD             53801.3860512007484954\n",
            "TZRSITE                                 1\n",
            "TZRFRQ                           1949.609\n",
            "\n"
          ]
        }
      ]
    },
    {
      "cell_type": "code",
      "source": [],
      "metadata": {
        "id": "C7uBaulaN6h4"
      },
      "execution_count": null,
      "outputs": []
    }
  ]
}